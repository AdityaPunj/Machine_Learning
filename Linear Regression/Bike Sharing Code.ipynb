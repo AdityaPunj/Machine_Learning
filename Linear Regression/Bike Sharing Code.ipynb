{
 "cells": [
  {
   "cell_type": "code",
   "execution_count": 1,
   "id": "b34b2256",
   "metadata": {},
   "outputs": [],
   "source": [
    "# warnings\n",
    "import warnings\n",
    "warnings.filterwarnings(\"ignore\")"
   ]
  },
  {
   "cell_type": "code",
   "execution_count": 2,
   "id": "1d6ef42e",
   "metadata": {},
   "outputs": [],
   "source": [
    "# importing useful libraries\n",
    "import numpy as np \n",
    "import pandas as pd\n",
    "import matplotlib.pyplot as plt\n",
    "import seaborn as sns\n",
    "%matplotlib inline"
   ]
  },
  {
   "cell_type": "markdown",
   "id": "f94c1d8d",
   "metadata": {},
   "source": [
    "### Importing the data"
   ]
  },
  {
   "cell_type": "code",
   "execution_count": 3,
   "id": "04f3c2e0",
   "metadata": {},
   "outputs": [],
   "source": [
    "bs_data = pd.read_csv(\"day.csv\")"
   ]
  },
  {
   "cell_type": "code",
   "execution_count": 4,
   "id": "aef3c646",
   "metadata": {},
   "outputs": [
    {
     "data": {
      "text/html": [
       "<div>\n",
       "<style scoped>\n",
       "    .dataframe tbody tr th:only-of-type {\n",
       "        vertical-align: middle;\n",
       "    }\n",
       "\n",
       "    .dataframe tbody tr th {\n",
       "        vertical-align: top;\n",
       "    }\n",
       "\n",
       "    .dataframe thead th {\n",
       "        text-align: right;\n",
       "    }\n",
       "</style>\n",
       "<table border=\"1\" class=\"dataframe\">\n",
       "  <thead>\n",
       "    <tr style=\"text-align: right;\">\n",
       "      <th></th>\n",
       "      <th>instant</th>\n",
       "      <th>dteday</th>\n",
       "      <th>season</th>\n",
       "      <th>yr</th>\n",
       "      <th>mnth</th>\n",
       "      <th>holiday</th>\n",
       "      <th>weekday</th>\n",
       "      <th>workingday</th>\n",
       "      <th>weathersit</th>\n",
       "      <th>temp</th>\n",
       "      <th>atemp</th>\n",
       "      <th>hum</th>\n",
       "      <th>windspeed</th>\n",
       "      <th>casual</th>\n",
       "      <th>registered</th>\n",
       "      <th>cnt</th>\n",
       "    </tr>\n",
       "  </thead>\n",
       "  <tbody>\n",
       "    <tr>\n",
       "      <th>0</th>\n",
       "      <td>1</td>\n",
       "      <td>01-01-2018</td>\n",
       "      <td>1</td>\n",
       "      <td>0</td>\n",
       "      <td>1</td>\n",
       "      <td>0</td>\n",
       "      <td>1</td>\n",
       "      <td>1</td>\n",
       "      <td>2</td>\n",
       "      <td>14.110847</td>\n",
       "      <td>18.18125</td>\n",
       "      <td>80.5833</td>\n",
       "      <td>10.749882</td>\n",
       "      <td>331</td>\n",
       "      <td>654</td>\n",
       "      <td>985</td>\n",
       "    </tr>\n",
       "    <tr>\n",
       "      <th>1</th>\n",
       "      <td>2</td>\n",
       "      <td>02-01-2018</td>\n",
       "      <td>1</td>\n",
       "      <td>0</td>\n",
       "      <td>1</td>\n",
       "      <td>0</td>\n",
       "      <td>2</td>\n",
       "      <td>1</td>\n",
       "      <td>2</td>\n",
       "      <td>14.902598</td>\n",
       "      <td>17.68695</td>\n",
       "      <td>69.6087</td>\n",
       "      <td>16.652113</td>\n",
       "      <td>131</td>\n",
       "      <td>670</td>\n",
       "      <td>801</td>\n",
       "    </tr>\n",
       "    <tr>\n",
       "      <th>2</th>\n",
       "      <td>3</td>\n",
       "      <td>03-01-2018</td>\n",
       "      <td>1</td>\n",
       "      <td>0</td>\n",
       "      <td>1</td>\n",
       "      <td>0</td>\n",
       "      <td>3</td>\n",
       "      <td>1</td>\n",
       "      <td>1</td>\n",
       "      <td>8.050924</td>\n",
       "      <td>9.47025</td>\n",
       "      <td>43.7273</td>\n",
       "      <td>16.636703</td>\n",
       "      <td>120</td>\n",
       "      <td>1229</td>\n",
       "      <td>1349</td>\n",
       "    </tr>\n",
       "    <tr>\n",
       "      <th>3</th>\n",
       "      <td>4</td>\n",
       "      <td>04-01-2018</td>\n",
       "      <td>1</td>\n",
       "      <td>0</td>\n",
       "      <td>1</td>\n",
       "      <td>0</td>\n",
       "      <td>4</td>\n",
       "      <td>1</td>\n",
       "      <td>1</td>\n",
       "      <td>8.200000</td>\n",
       "      <td>10.60610</td>\n",
       "      <td>59.0435</td>\n",
       "      <td>10.739832</td>\n",
       "      <td>108</td>\n",
       "      <td>1454</td>\n",
       "      <td>1562</td>\n",
       "    </tr>\n",
       "    <tr>\n",
       "      <th>4</th>\n",
       "      <td>5</td>\n",
       "      <td>05-01-2018</td>\n",
       "      <td>1</td>\n",
       "      <td>0</td>\n",
       "      <td>1</td>\n",
       "      <td>0</td>\n",
       "      <td>5</td>\n",
       "      <td>1</td>\n",
       "      <td>1</td>\n",
       "      <td>9.305237</td>\n",
       "      <td>11.46350</td>\n",
       "      <td>43.6957</td>\n",
       "      <td>12.522300</td>\n",
       "      <td>82</td>\n",
       "      <td>1518</td>\n",
       "      <td>1600</td>\n",
       "    </tr>\n",
       "  </tbody>\n",
       "</table>\n",
       "</div>"
      ],
      "text/plain": [
       "   instant      dteday  season  yr  mnth  holiday  weekday  workingday  \\\n",
       "0        1  01-01-2018       1   0     1        0        1           1   \n",
       "1        2  02-01-2018       1   0     1        0        2           1   \n",
       "2        3  03-01-2018       1   0     1        0        3           1   \n",
       "3        4  04-01-2018       1   0     1        0        4           1   \n",
       "4        5  05-01-2018       1   0     1        0        5           1   \n",
       "\n",
       "   weathersit       temp     atemp      hum  windspeed  casual  registered  \\\n",
       "0           2  14.110847  18.18125  80.5833  10.749882     331         654   \n",
       "1           2  14.902598  17.68695  69.6087  16.652113     131         670   \n",
       "2           1   8.050924   9.47025  43.7273  16.636703     120        1229   \n",
       "3           1   8.200000  10.60610  59.0435  10.739832     108        1454   \n",
       "4           1   9.305237  11.46350  43.6957  12.522300      82        1518   \n",
       "\n",
       "    cnt  \n",
       "0   985  \n",
       "1   801  \n",
       "2  1349  \n",
       "3  1562  \n",
       "4  1600  "
      ]
     },
     "execution_count": 4,
     "metadata": {},
     "output_type": "execute_result"
    }
   ],
   "source": [
    "# seeing useful information in data\n",
    "bs_data.head()"
   ]
  },
  {
   "cell_type": "code",
   "execution_count": 5,
   "id": "536cba87",
   "metadata": {},
   "outputs": [
    {
     "data": {
      "text/plain": [
       "(730, 16)"
      ]
     },
     "execution_count": 5,
     "metadata": {},
     "output_type": "execute_result"
    }
   ],
   "source": [
    "bs_data.shape   # 730 rows and 16 columns"
   ]
  },
  {
   "cell_type": "code",
   "execution_count": 6,
   "id": "173c7bab",
   "metadata": {},
   "outputs": [
    {
     "name": "stdout",
     "output_type": "stream",
     "text": [
      "<class 'pandas.core.frame.DataFrame'>\n",
      "RangeIndex: 730 entries, 0 to 729\n",
      "Data columns (total 16 columns):\n",
      " #   Column      Non-Null Count  Dtype  \n",
      "---  ------      --------------  -----  \n",
      " 0   instant     730 non-null    int64  \n",
      " 1   dteday      730 non-null    object \n",
      " 2   season      730 non-null    int64  \n",
      " 3   yr          730 non-null    int64  \n",
      " 4   mnth        730 non-null    int64  \n",
      " 5   holiday     730 non-null    int64  \n",
      " 6   weekday     730 non-null    int64  \n",
      " 7   workingday  730 non-null    int64  \n",
      " 8   weathersit  730 non-null    int64  \n",
      " 9   temp        730 non-null    float64\n",
      " 10  atemp       730 non-null    float64\n",
      " 11  hum         730 non-null    float64\n",
      " 12  windspeed   730 non-null    float64\n",
      " 13  casual      730 non-null    int64  \n",
      " 14  registered  730 non-null    int64  \n",
      " 15  cnt         730 non-null    int64  \n",
      "dtypes: float64(4), int64(11), object(1)\n",
      "memory usage: 91.4+ KB\n"
     ]
    }
   ],
   "source": [
    "bs_data.info()"
   ]
  },
  {
   "cell_type": "code",
   "execution_count": 7,
   "id": "91fe1e9d",
   "metadata": {},
   "outputs": [
    {
     "data": {
      "text/plain": [
       "0"
      ]
     },
     "execution_count": 7,
     "metadata": {},
     "output_type": "execute_result"
    }
   ],
   "source": [
    "# check for duplicates\n",
    "bs_data.duplicated().sum()   # no duplicates"
   ]
  },
  {
   "cell_type": "code",
   "execution_count": 8,
   "id": "f3d4ba1b",
   "metadata": {},
   "outputs": [
    {
     "data": {
      "text/plain": [
       "instant       0\n",
       "dteday        0\n",
       "season        0\n",
       "yr            0\n",
       "mnth          0\n",
       "holiday       0\n",
       "weekday       0\n",
       "workingday    0\n",
       "weathersit    0\n",
       "temp          0\n",
       "atemp         0\n",
       "hum           0\n",
       "windspeed     0\n",
       "casual        0\n",
       "registered    0\n",
       "cnt           0\n",
       "dtype: int64"
      ]
     },
     "execution_count": 8,
     "metadata": {},
     "output_type": "execute_result"
    }
   ],
   "source": [
    "# check for missing values\n",
    "bs_data.isnull().sum()  # no missing values"
   ]
  },
  {
   "cell_type": "code",
   "execution_count": 10,
   "id": "6936a6e8",
   "metadata": {},
   "outputs": [
    {
     "data": {
      "text/plain": [
       "3    188\n",
       "2    184\n",
       "1    180\n",
       "4    178\n",
       "Name: season, dtype: int64"
      ]
     },
     "execution_count": 10,
     "metadata": {},
     "output_type": "execute_result"
    }
   ],
   "source": [
    "bs_data[\"season\"].value_counts()"
   ]
  },
  {
   "cell_type": "code",
   "execution_count": 11,
   "id": "d59a3e20",
   "metadata": {},
   "outputs": [],
   "source": [
    "# mapping the season values \n",
    "bs_data[\"season\"] = bs_data[\"season\"].map({1:\"spring\", 2:\"summer\", 3:\"fall\", 4:\"winter\"})"
   ]
  },
  {
   "cell_type": "code",
   "execution_count": 13,
   "id": "16deb170",
   "metadata": {},
   "outputs": [
    {
     "data": {
      "text/plain": [
       "fall      188\n",
       "summer    184\n",
       "spring    180\n",
       "winter    178\n",
       "Name: season, dtype: int64"
      ]
     },
     "execution_count": 13,
     "metadata": {},
     "output_type": "execute_result"
    }
   ],
   "source": [
    "bs_data[\"season\"].value_counts()"
   ]
  },
  {
   "cell_type": "markdown",
   "id": "984c2bde",
   "metadata": {},
   "source": [
    "### Exploratory Data Analysis (EDA)"
   ]
  },
  {
   "cell_type": "code",
   "execution_count": 14,
   "id": "ac7021dd",
   "metadata": {},
   "outputs": [],
   "source": [
    "# removing the un-necessary columns\n",
    "bs_data.drop([\"instant\",\"dteday\",\"atemp\"], axis=1, inplace=True)\n",
    "# instant column because row numbers is there\n",
    "# dteday because week and month are given\n",
    "# atemp because temp and atemp are same"
   ]
  },
  {
   "cell_type": "code",
   "execution_count": 15,
   "id": "95eb3727",
   "metadata": {},
   "outputs": [
    {
     "data": {
      "text/html": [
       "<div>\n",
       "<style scoped>\n",
       "    .dataframe tbody tr th:only-of-type {\n",
       "        vertical-align: middle;\n",
       "    }\n",
       "\n",
       "    .dataframe tbody tr th {\n",
       "        vertical-align: top;\n",
       "    }\n",
       "\n",
       "    .dataframe thead th {\n",
       "        text-align: right;\n",
       "    }\n",
       "</style>\n",
       "<table border=\"1\" class=\"dataframe\">\n",
       "  <thead>\n",
       "    <tr style=\"text-align: right;\">\n",
       "      <th></th>\n",
       "      <th>season</th>\n",
       "      <th>yr</th>\n",
       "      <th>mnth</th>\n",
       "      <th>holiday</th>\n",
       "      <th>weekday</th>\n",
       "      <th>workingday</th>\n",
       "      <th>weathersit</th>\n",
       "      <th>temp</th>\n",
       "      <th>hum</th>\n",
       "      <th>windspeed</th>\n",
       "      <th>casual</th>\n",
       "      <th>registered</th>\n",
       "      <th>cnt</th>\n",
       "    </tr>\n",
       "  </thead>\n",
       "  <tbody>\n",
       "    <tr>\n",
       "      <th>0</th>\n",
       "      <td>spring</td>\n",
       "      <td>0</td>\n",
       "      <td>1</td>\n",
       "      <td>0</td>\n",
       "      <td>1</td>\n",
       "      <td>1</td>\n",
       "      <td>2</td>\n",
       "      <td>14.110847</td>\n",
       "      <td>80.5833</td>\n",
       "      <td>10.749882</td>\n",
       "      <td>331</td>\n",
       "      <td>654</td>\n",
       "      <td>985</td>\n",
       "    </tr>\n",
       "    <tr>\n",
       "      <th>1</th>\n",
       "      <td>spring</td>\n",
       "      <td>0</td>\n",
       "      <td>1</td>\n",
       "      <td>0</td>\n",
       "      <td>2</td>\n",
       "      <td>1</td>\n",
       "      <td>2</td>\n",
       "      <td>14.902598</td>\n",
       "      <td>69.6087</td>\n",
       "      <td>16.652113</td>\n",
       "      <td>131</td>\n",
       "      <td>670</td>\n",
       "      <td>801</td>\n",
       "    </tr>\n",
       "    <tr>\n",
       "      <th>2</th>\n",
       "      <td>spring</td>\n",
       "      <td>0</td>\n",
       "      <td>1</td>\n",
       "      <td>0</td>\n",
       "      <td>3</td>\n",
       "      <td>1</td>\n",
       "      <td>1</td>\n",
       "      <td>8.050924</td>\n",
       "      <td>43.7273</td>\n",
       "      <td>16.636703</td>\n",
       "      <td>120</td>\n",
       "      <td>1229</td>\n",
       "      <td>1349</td>\n",
       "    </tr>\n",
       "    <tr>\n",
       "      <th>3</th>\n",
       "      <td>spring</td>\n",
       "      <td>0</td>\n",
       "      <td>1</td>\n",
       "      <td>0</td>\n",
       "      <td>4</td>\n",
       "      <td>1</td>\n",
       "      <td>1</td>\n",
       "      <td>8.200000</td>\n",
       "      <td>59.0435</td>\n",
       "      <td>10.739832</td>\n",
       "      <td>108</td>\n",
       "      <td>1454</td>\n",
       "      <td>1562</td>\n",
       "    </tr>\n",
       "    <tr>\n",
       "      <th>4</th>\n",
       "      <td>spring</td>\n",
       "      <td>0</td>\n",
       "      <td>1</td>\n",
       "      <td>0</td>\n",
       "      <td>5</td>\n",
       "      <td>1</td>\n",
       "      <td>1</td>\n",
       "      <td>9.305237</td>\n",
       "      <td>43.6957</td>\n",
       "      <td>12.522300</td>\n",
       "      <td>82</td>\n",
       "      <td>1518</td>\n",
       "      <td>1600</td>\n",
       "    </tr>\n",
       "  </tbody>\n",
       "</table>\n",
       "</div>"
      ],
      "text/plain": [
       "   season  yr  mnth  holiday  weekday  workingday  weathersit       temp  \\\n",
       "0  spring   0     1        0        1           1           2  14.110847   \n",
       "1  spring   0     1        0        2           1           2  14.902598   \n",
       "2  spring   0     1        0        3           1           1   8.050924   \n",
       "3  spring   0     1        0        4           1           1   8.200000   \n",
       "4  spring   0     1        0        5           1           1   9.305237   \n",
       "\n",
       "       hum  windspeed  casual  registered   cnt  \n",
       "0  80.5833  10.749882     331         654   985  \n",
       "1  69.6087  16.652113     131         670   801  \n",
       "2  43.7273  16.636703     120        1229  1349  \n",
       "3  59.0435  10.739832     108        1454  1562  \n",
       "4  43.6957  12.522300      82        1518  1600  "
      ]
     },
     "execution_count": 15,
     "metadata": {},
     "output_type": "execute_result"
    }
   ],
   "source": [
    "bs_data.head()"
   ]
  },
  {
   "cell_type": "code",
   "execution_count": 16,
   "id": "89e3b3b6",
   "metadata": {},
   "outputs": [],
   "source": [
    "# dividing the columns which are numerical, categorical and target\n",
    "numeric = [\"temp\",\"hum\",\"windspeed\",\"casual\",\"registered\"]\n",
    "categ = [\"season\",\"yr\",\"mnth\",\"holiday\",\"weekday\",\"workingday\",\"weathersit\"]\n",
    "target = [\"cnt\"]"
   ]
  },
  {
   "cell_type": "markdown",
   "id": "fbdd3ad9",
   "metadata": {},
   "source": [
    "### Univariate Analysis"
   ]
  },
  {
   "cell_type": "code",
   "execution_count": 17,
   "id": "74cfe2ab",
   "metadata": {},
   "outputs": [
    {
     "data": {
      "image/png": "[encoded data removed]",
      "text/plain": [
       "<Figure size 432x288 with 1 Axes>"
      ]
     },
     "metadata": {
      "needs_background": "light"
     },
     "output_type": "display_data"
    },
    {
     "data": {
      "image/png": "[encoded data removed]",
      "text/plain": [
       "<Figure size 432x288 with 1 Axes>"
      ]
     },
     "metadata": {
      "needs_background": "light"
     },
     "output_type": "display_data"
    },
    {
     "data": {
      "image/png": "[encoded data removed]",
      "text/plain": [
       "<Figure size 432x288 with 1 Axes>"
      ]
     },
     "metadata": {
      "needs_background": "light"
     },
     "output_type": "display_data"
    },
    {
     "data": {
      "image/png": "[encoded data removed]",
      "text/plain": [
       "<Figure size 432x288 with 1 Axes>"
      ]
     },
     "metadata": {
      "needs_background": "light"
     },
     "output_type": "display_data"
    },
    {
     "data": {
      "image/png": "[encoded data removed]",
      "text/plain": [
       "<Figure size 432x288 with 1 Axes>"
      ]
     },
     "metadata": {
      "needs_background": "light"
     },
     "output_type": "display_data"
    }
   ],
   "source": [
    "# for numerical columns\n",
    "for i in numeric:\n",
    "    sns.histplot(bs_data[i])\n",
    "    plt.show()"
   ]
  },
  {
   "cell_type": "markdown",
   "id": "9bedd2e2",
   "metadata": {},
   "source": [
    "##### for numeric columns\n",
    "   1. temp has most of the temperature in range between 10-36\n",
    "   2. hum column i.e humidity most in the range of 40-85\n",
    "   3. windspeed column most in the range of 5-20\n",
    "   4. most of the casual users are between 0-1500 per day\n",
    "   5. most of the registered users are between 1500-5500 per day\n",
    "   6. registerd users are more as compare to casual"
   ]
  },
  {
   "cell_type": "code",
   "execution_count": 18,
   "id": "e3bb5b7a",
   "metadata": {},
   "outputs": [
    {
     "data": {
      "image/png": "[encoded data removed]",
      "text/plain": [
       "<Figure size 432x288 with 1 Axes>"
      ]
     },
     "metadata": {
      "needs_background": "light"
     },
     "output_type": "display_data"
    },
    {
     "data": {
      "image/png": "[encoded data removed]",
      "text/plain": [
       "<Figure size 432x288 with 1 Axes>"
      ]
     },
     "metadata": {
      "needs_background": "light"
     },
     "output_type": "display_data"
    },
    {
     "data": {
      "image/png": "[encoded data removed]",
      "text/plain": [
       "<Figure size 432x288 with 1 Axes>"
      ]
     },
     "metadata": {
      "needs_background": "light"
     },
     "output_type": "display_data"
    },
    {
     "data": {
      "image/png": "[encoded data removed]",
      "text/plain": [
       "<Figure size 432x288 with 1 Axes>"
      ]
     },
     "metadata": {
      "needs_background": "light"
     },
     "output_type": "display_data"
    },
    {
     "data": {
      "image/png": "[encoded data removed]",
      "text/plain": [
       "<Figure size 432x288 with 1 Axes>"
      ]
     },
     "metadata": {
      "needs_background": "light"
     },
     "output_type": "display_data"
    },
    {
     "data": {
      "image/png": "[encoded data removed]",
      "text/plain": [
       "<Figure size 432x288 with 1 Axes>"
      ]
     },
     "metadata": {
      "needs_background": "light"
     },
     "output_type": "display_data"
    },
    {
     "data": {
      "image/png": "[encoded data removed]",
      "text/plain": [
       "<Figure size 432x288 with 1 Axes>"
      ]
     },
     "metadata": {
      "needs_background": "light"
     },
     "output_type": "display_data"
    }
   ],
   "source": [
    "# for categorical columns\n",
    "for i in categ:\n",
    "    sns.countplot(bs_data[i])\n",
    "    plt.show()"
   ]
  },
  {
   "cell_type": "markdown",
   "id": "8e724163",
   "metadata": {},
   "source": [
    "##### for categorical columns\n",
    "   1. holidays are less\n",
    "   2. workingdays are more\n",
    "   3. weathersit category is most in the range of 1 and 2"
   ]
  },
  {
   "cell_type": "markdown",
   "id": "43efafea",
   "metadata": {},
   "source": [
    "### Bivariate Analysis"
   ]
  },
  {
   "cell_type": "code",
   "execution_count": 19,
   "id": "ffa33c75",
   "metadata": {},
   "outputs": [
    {
     "data": {
      "image/png": "[encoded data removed]",
      "text/plain": [
       "<Figure size 432x288 with 1 Axes>"
      ]
     },
     "metadata": {
      "needs_background": "light"
     },
     "output_type": "display_data"
    },
    {
     "data": {
      "image/png": "[encoded data removed]",
      "text/plain": [
       "<Figure size 432x288 with 1 Axes>"
      ]
     },
     "metadata": {
      "needs_background": "light"
     },
     "output_type": "display_data"
    },
    {
     "data": {
      "image/png": "[encoded data removed]",
      "text/plain": [
       "<Figure size 432x288 with 1 Axes>"
      ]
     },
     "metadata": {
      "needs_background": "light"
     },
     "output_type": "display_data"
    },
    {
     "data": {
      "image/png": "[encoded data removed]",
      "text/plain": [
       "<Figure size 432x288 with 1 Axes>"
      ]
     },
     "metadata": {
      "needs_background": "light"
     },
     "output_type": "display_data"
    },
    {
     "data": {
      "image/png": "[encoded data removed]",
      "text/plain": [
       "<Figure size 432x288 with 1 Axes>"
      ]
     },
     "metadata": {
      "needs_background": "light"
     },
     "output_type": "display_data"
    }
   ],
   "source": [
    "# for numerical vs target column (cnt)\n",
    "for i in numeric:\n",
    "    sns.scatterplot(bs_data[i],bs_data[\"cnt\"])\n",
    "    plt.show()"
   ]
  },
  {
   "cell_type": "markdown",
   "id": "1eb22c38",
   "metadata": {},
   "source": [
    "##### for numeric vs cnt columns\n",
    "   1. as temperature increases the count of \n",
    "      customer increases\n",
    "   2. customers are less as the windspeed is above 25\n",
    "   3. as the humidity is less than 30 the customer in this range are very \n",
    "      less as compare to humidity > 30"
   ]
  },
  {
   "cell_type": "code",
   "execution_count": 20,
   "id": "292ad0e1",
   "metadata": {},
   "outputs": [
    {
     "data": {
      "image/png": "[encoded data removed]",
      "text/plain": [
       "<Figure size 432x288 with 1 Axes>"
      ]
     },
     "metadata": {
      "needs_background": "light"
     },
     "output_type": "display_data"
    },
    {
     "data": {
      "image/png": "[encoded data removed]",
      "text/plain": [
       "<Figure size 432x288 with 1 Axes>"
      ]
     },
     "metadata": {
      "needs_background": "light"
     },
     "output_type": "display_data"
    },
    {
     "data": {
      "image/png": "[encoded data removed]",
      "text/plain": [
       "<Figure size 432x288 with 1 Axes>"
      ]
     },
     "metadata": {
      "needs_background": "light"
     },
     "output_type": "display_data"
    },
    {
     "data": {
      "image/png": "[encoded data removed]",
      "text/plain": [
       "<Figure size 432x288 with 1 Axes>"
      ]
     },
     "metadata": {
      "needs_background": "light"
     },
     "output_type": "display_data"
    },
    {
     "data": {
      "image/png": "[encoded data removed]",
      "text/plain": [
       "<Figure size 432x288 with 1 Axes>"
      ]
     },
     "metadata": {
      "needs_background": "light"
     },
     "output_type": "display_data"
    },
    {
     "data": {
      "image/png": "[encoded data removed]",
      "text/plain": [
       "<Figure size 432x288 with 1 Axes>"
      ]
     },
     "metadata": {
      "needs_background": "light"
     },
     "output_type": "display_data"
    },
    {
     "data": {
      "image/png": "[encoded data removed]",
      "text/plain": [
       "<Figure size 432x288 with 1 Axes>"
      ]
     },
     "metadata": {
      "needs_background": "light"
     },
     "output_type": "display_data"
    }
   ],
   "source": [
    "# categ vs target column (cnt)\n",
    "for i in categ:\n",
    "    sns.boxplot(bs_data[i], bs_data[\"cnt\"])\n",
    "    plt.xlabel(i)\n",
    "    plt.ylabel(\"cnt\")\n",
    "    plt.show()"
   ]
  },
  {
   "cell_type": "markdown",
   "id": "3f7a111f",
   "metadata": {},
   "source": [
    "##### for categ vs target column (cnt)\n",
    "   1. customer count is more in summer and fall season and lowest in\n",
    "      spring season\n",
    "   2. maximum count of customers is between month 3(march) to 10(october)         and lowest in month 1(january) and 2(february)\n",
    "   3. maximum count of customers are in weathersit 1(mostly clear) and \n",
    "      2(mostly cloudy) weathers and lowest in 3(partly snow & rain)"
   ]
  },
  {
   "cell_type": "code",
   "execution_count": 21,
   "id": "18a9da8b",
   "metadata": {},
   "outputs": [
    {
     "data": {
      "image/png": "[encoded data removed]",
      "text/plain": [
       "<Figure size 1800x1296 with 2 Axes>"
      ]
     },
     "metadata": {
      "needs_background": "light"
     },
     "output_type": "display_data"
    }
   ],
   "source": [
    "# Heatmap\n",
    "plt.figure(figsize=(25,18))\n",
    "sns.heatmap(bs_data.corr(), annot=True, cmap=\"Greens\")\n",
    "plt.show()"
   ]
  },
  {
   "cell_type": "markdown",
   "id": "7f47245c",
   "metadata": {},
   "source": [
    "1. in the heatmap there is a higher correlation between temp and cnt\n",
    "2. there is also correlation between yr and cnt"
   ]
  },
  {
   "cell_type": "markdown",
   "id": "da56385f",
   "metadata": {},
   "source": [
    "##### dummy variable creation and dropping the columns that are of no use"
   ]
  },
  {
   "cell_type": "code",
   "execution_count": 25,
   "id": "de115055",
   "metadata": {},
   "outputs": [],
   "source": [
    "bs_data.drop([\"casual\",\"registered\"], axis=1, inplace=True)\n",
    "# dropping casual and registered column due to multicollinearity."
   ]
  },
  {
   "cell_type": "code",
   "execution_count": 26,
   "id": "9bf1ef54",
   "metadata": {},
   "outputs": [
    {
     "data": {
      "text/html": [
       "<div>\n",
       "<style scoped>\n",
       "    .dataframe tbody tr th:only-of-type {\n",
       "        vertical-align: middle;\n",
       "    }\n",
       "\n",
       "    .dataframe tbody tr th {\n",
       "        vertical-align: top;\n",
       "    }\n",
       "\n",
       "    .dataframe thead th {\n",
       "        text-align: right;\n",
       "    }\n",
       "</style>\n",
       "<table border=\"1\" class=\"dataframe\">\n",
       "  <thead>\n",
       "    <tr style=\"text-align: right;\">\n",
       "      <th></th>\n",
       "      <th>spring</th>\n",
       "      <th>summer</th>\n",
       "      <th>winter</th>\n",
       "    </tr>\n",
       "  </thead>\n",
       "  <tbody>\n",
       "    <tr>\n",
       "      <th>0</th>\n",
       "      <td>1</td>\n",
       "      <td>0</td>\n",
       "      <td>0</td>\n",
       "    </tr>\n",
       "    <tr>\n",
       "      <th>1</th>\n",
       "      <td>1</td>\n",
       "      <td>0</td>\n",
       "      <td>0</td>\n",
       "    </tr>\n",
       "    <tr>\n",
       "      <th>2</th>\n",
       "      <td>1</td>\n",
       "      <td>0</td>\n",
       "      <td>0</td>\n",
       "    </tr>\n",
       "    <tr>\n",
       "      <th>3</th>\n",
       "      <td>1</td>\n",
       "      <td>0</td>\n",
       "      <td>0</td>\n",
       "    </tr>\n",
       "    <tr>\n",
       "      <th>4</th>\n",
       "      <td>1</td>\n",
       "      <td>0</td>\n",
       "      <td>0</td>\n",
       "    </tr>\n",
       "  </tbody>\n",
       "</table>\n",
       "</div>"
      ],
      "text/plain": [
       "   spring  summer  winter\n",
       "0       1       0       0\n",
       "1       1       0       0\n",
       "2       1       0       0\n",
       "3       1       0       0\n",
       "4       1       0       0"
      ]
     },
     "execution_count": 26,
     "metadata": {},
     "output_type": "execute_result"
    }
   ],
   "source": [
    "# dummy variable creation for season, month, weekday, weathersit columns\n",
    "dum1 = pd.get_dummies(bs_data[\"season\"], drop_first=True)\n",
    "dum1.head()"
   ]
  },
  {
   "cell_type": "code",
   "execution_count": 27,
   "id": "cc01aafc",
   "metadata": {},
   "outputs": [
    {
     "data": {
      "text/html": [
       "<div>\n",
       "<style scoped>\n",
       "    .dataframe tbody tr th:only-of-type {\n",
       "        vertical-align: middle;\n",
       "    }\n",
       "\n",
       "    .dataframe tbody tr th {\n",
       "        vertical-align: top;\n",
       "    }\n",
       "\n",
       "    .dataframe thead th {\n",
       "        text-align: right;\n",
       "    }\n",
       "</style>\n",
       "<table border=\"1\" class=\"dataframe\">\n",
       "  <thead>\n",
       "    <tr style=\"text-align: right;\">\n",
       "      <th></th>\n",
       "      <th>2</th>\n",
       "      <th>3</th>\n",
       "      <th>4</th>\n",
       "      <th>5</th>\n",
       "      <th>6</th>\n",
       "      <th>7</th>\n",
       "      <th>8</th>\n",
       "      <th>9</th>\n",
       "      <th>10</th>\n",
       "      <th>11</th>\n",
       "      <th>12</th>\n",
       "    </tr>\n",
       "  </thead>\n",
       "  <tbody>\n",
       "    <tr>\n",
       "      <th>0</th>\n",
       "      <td>0</td>\n",
       "      <td>0</td>\n",
       "      <td>0</td>\n",
       "      <td>0</td>\n",
       "      <td>0</td>\n",
       "      <td>0</td>\n",
       "      <td>0</td>\n",
       "      <td>0</td>\n",
       "      <td>0</td>\n",
       "      <td>0</td>\n",
       "      <td>0</td>\n",
       "    </tr>\n",
       "    <tr>\n",
       "      <th>1</th>\n",
       "      <td>0</td>\n",
       "      <td>0</td>\n",
       "      <td>0</td>\n",
       "      <td>0</td>\n",
       "      <td>0</td>\n",
       "      <td>0</td>\n",
       "      <td>0</td>\n",
       "      <td>0</td>\n",
       "      <td>0</td>\n",
       "      <td>0</td>\n",
       "      <td>0</td>\n",
       "    </tr>\n",
       "    <tr>\n",
       "      <th>2</th>\n",
       "      <td>0</td>\n",
       "      <td>0</td>\n",
       "      <td>0</td>\n",
       "      <td>0</td>\n",
       "      <td>0</td>\n",
       "      <td>0</td>\n",
       "      <td>0</td>\n",
       "      <td>0</td>\n",
       "      <td>0</td>\n",
       "      <td>0</td>\n",
       "      <td>0</td>\n",
       "    </tr>\n",
       "    <tr>\n",
       "      <th>3</th>\n",
       "      <td>0</td>\n",
       "      <td>0</td>\n",
       "      <td>0</td>\n",
       "      <td>0</td>\n",
       "      <td>0</td>\n",
       "      <td>0</td>\n",
       "      <td>0</td>\n",
       "      <td>0</td>\n",
       "      <td>0</td>\n",
       "      <td>0</td>\n",
       "      <td>0</td>\n",
       "    </tr>\n",
       "    <tr>\n",
       "      <th>4</th>\n",
       "      <td>0</td>\n",
       "      <td>0</td>\n",
       "      <td>0</td>\n",
       "      <td>0</td>\n",
       "      <td>0</td>\n",
       "      <td>0</td>\n",
       "      <td>0</td>\n",
       "      <td>0</td>\n",
       "      <td>0</td>\n",
       "      <td>0</td>\n",
       "      <td>0</td>\n",
       "    </tr>\n",
       "  </tbody>\n",
       "</table>\n",
       "</div>"
      ],
      "text/plain": [
       "   2   3   4   5   6   7   8   9   10  11  12\n",
       "0   0   0   0   0   0   0   0   0   0   0   0\n",
       "1   0   0   0   0   0   0   0   0   0   0   0\n",
       "2   0   0   0   0   0   0   0   0   0   0   0\n",
       "3   0   0   0   0   0   0   0   0   0   0   0\n",
       "4   0   0   0   0   0   0   0   0   0   0   0"
      ]
     },
     "execution_count": 27,
     "metadata": {},
     "output_type": "execute_result"
    }
   ],
   "source": [
    "dum2 = pd.get_dummies(bs_data[\"mnth\"], drop_first=True)\n",
    "dum2.head()"
   ]
  },
  {
   "cell_type": "code",
   "execution_count": 28,
   "id": "bd77d6bd",
   "metadata": {},
   "outputs": [],
   "source": [
    "dum2.rename(columns={2:\"feb\",3:\"march\",4:\"april\",5:\"may\",6:\"june\",7:\"july\",\n",
    "                    8:\"august\",9:\"september\",10:\"october\",\n",
    "                    11:\"november\",12:\"december\"}, inplace=True)"
   ]
  },
  {
   "cell_type": "code",
   "execution_count": 29,
   "id": "b5ffd9ce",
   "metadata": {},
   "outputs": [
    {
     "data": {
      "text/html": [
       "<div>\n",
       "<style scoped>\n",
       "    .dataframe tbody tr th:only-of-type {\n",
       "        vertical-align: middle;\n",
       "    }\n",
       "\n",
       "    .dataframe tbody tr th {\n",
       "        vertical-align: top;\n",
       "    }\n",
       "\n",
       "    .dataframe thead th {\n",
       "        text-align: right;\n",
       "    }\n",
       "</style>\n",
       "<table border=\"1\" class=\"dataframe\">\n",
       "  <thead>\n",
       "    <tr style=\"text-align: right;\">\n",
       "      <th></th>\n",
       "      <th>1</th>\n",
       "      <th>2</th>\n",
       "      <th>3</th>\n",
       "      <th>4</th>\n",
       "      <th>5</th>\n",
       "      <th>6</th>\n",
       "    </tr>\n",
       "  </thead>\n",
       "  <tbody>\n",
       "    <tr>\n",
       "      <th>0</th>\n",
       "      <td>1</td>\n",
       "      <td>0</td>\n",
       "      <td>0</td>\n",
       "      <td>0</td>\n",
       "      <td>0</td>\n",
       "      <td>0</td>\n",
       "    </tr>\n",
       "    <tr>\n",
       "      <th>1</th>\n",
       "      <td>0</td>\n",
       "      <td>1</td>\n",
       "      <td>0</td>\n",
       "      <td>0</td>\n",
       "      <td>0</td>\n",
       "      <td>0</td>\n",
       "    </tr>\n",
       "    <tr>\n",
       "      <th>2</th>\n",
       "      <td>0</td>\n",
       "      <td>0</td>\n",
       "      <td>1</td>\n",
       "      <td>0</td>\n",
       "      <td>0</td>\n",
       "      <td>0</td>\n",
       "    </tr>\n",
       "    <tr>\n",
       "      <th>3</th>\n",
       "      <td>0</td>\n",
       "      <td>0</td>\n",
       "      <td>0</td>\n",
       "      <td>1</td>\n",
       "      <td>0</td>\n",
       "      <td>0</td>\n",
       "    </tr>\n",
       "    <tr>\n",
       "      <th>4</th>\n",
       "      <td>0</td>\n",
       "      <td>0</td>\n",
       "      <td>0</td>\n",
       "      <td>0</td>\n",
       "      <td>1</td>\n",
       "      <td>0</td>\n",
       "    </tr>\n",
       "  </tbody>\n",
       "</table>\n",
       "</div>"
      ],
      "text/plain": [
       "   1  2  3  4  5  6\n",
       "0  1  0  0  0  0  0\n",
       "1  0  1  0  0  0  0\n",
       "2  0  0  1  0  0  0\n",
       "3  0  0  0  1  0  0\n",
       "4  0  0  0  0  1  0"
      ]
     },
     "execution_count": 29,
     "metadata": {},
     "output_type": "execute_result"
    }
   ],
   "source": [
    "dum3 = pd.get_dummies(bs_data[\"weekday\"], drop_first=True)\n",
    "dum3.head()"
   ]
  },
  {
   "cell_type": "code",
   "execution_count": 30,
   "id": "9788e287",
   "metadata": {},
   "outputs": [],
   "source": [
    "dum3.rename(columns={1:\"monday\",2:\"tuesday\",3:\"wednesday\",4:\"thursday\",\n",
    "                     5:\"friday\",6:\"saturday\"}, inplace=True)"
   ]
  },
  {
   "cell_type": "code",
   "execution_count": 31,
   "id": "43f88f8a",
   "metadata": {},
   "outputs": [
    {
     "data": {
      "text/html": [
       "<div>\n",
       "<style scoped>\n",
       "    .dataframe tbody tr th:only-of-type {\n",
       "        vertical-align: middle;\n",
       "    }\n",
       "\n",
       "    .dataframe tbody tr th {\n",
       "        vertical-align: top;\n",
       "    }\n",
       "\n",
       "    .dataframe thead th {\n",
       "        text-align: right;\n",
       "    }\n",
       "</style>\n",
       "<table border=\"1\" class=\"dataframe\">\n",
       "  <thead>\n",
       "    <tr style=\"text-align: right;\">\n",
       "      <th></th>\n",
       "      <th>2</th>\n",
       "      <th>3</th>\n",
       "    </tr>\n",
       "  </thead>\n",
       "  <tbody>\n",
       "    <tr>\n",
       "      <th>0</th>\n",
       "      <td>1</td>\n",
       "      <td>0</td>\n",
       "    </tr>\n",
       "    <tr>\n",
       "      <th>1</th>\n",
       "      <td>1</td>\n",
       "      <td>0</td>\n",
       "    </tr>\n",
       "    <tr>\n",
       "      <th>2</th>\n",
       "      <td>0</td>\n",
       "      <td>0</td>\n",
       "    </tr>\n",
       "    <tr>\n",
       "      <th>3</th>\n",
       "      <td>0</td>\n",
       "      <td>0</td>\n",
       "    </tr>\n",
       "    <tr>\n",
       "      <th>4</th>\n",
       "      <td>0</td>\n",
       "      <td>0</td>\n",
       "    </tr>\n",
       "  </tbody>\n",
       "</table>\n",
       "</div>"
      ],
      "text/plain": [
       "   2  3\n",
       "0  1  0\n",
       "1  1  0\n",
       "2  0  0\n",
       "3  0  0\n",
       "4  0  0"
      ]
     },
     "execution_count": 31,
     "metadata": {},
     "output_type": "execute_result"
    }
   ],
   "source": [
    "dum4 = pd.get_dummies(bs_data[\"weathersit\"], drop_first=True)\n",
    "dum4.head()"
   ]
  },
  {
   "cell_type": "code",
   "execution_count": 32,
   "id": "8cf690f7",
   "metadata": {},
   "outputs": [],
   "source": [
    "dum4.rename(columns={2:\"mostly cloudy\",3:\"partly snow & rain\"}, inplace=True)"
   ]
  },
  {
   "cell_type": "code",
   "execution_count": 33,
   "id": "32e5c12f",
   "metadata": {},
   "outputs": [],
   "source": [
    "# concat them into original dataframe\n",
    "bs_data = pd.concat([bs_data,dum1,dum2,dum3,dum4], axis=1)"
   ]
  },
  {
   "cell_type": "code",
   "execution_count": 34,
   "id": "cabba7f1",
   "metadata": {},
   "outputs": [
    {
     "data": {
      "text/html": [
       "<div>\n",
       "<style scoped>\n",
       "    .dataframe tbody tr th:only-of-type {\n",
       "        vertical-align: middle;\n",
       "    }\n",
       "\n",
       "    .dataframe tbody tr th {\n",
       "        vertical-align: top;\n",
       "    }\n",
       "\n",
       "    .dataframe thead th {\n",
       "        text-align: right;\n",
       "    }\n",
       "</style>\n",
       "<table border=\"1\" class=\"dataframe\">\n",
       "  <thead>\n",
       "    <tr style=\"text-align: right;\">\n",
       "      <th></th>\n",
       "      <th>season</th>\n",
       "      <th>yr</th>\n",
       "      <th>mnth</th>\n",
       "      <th>holiday</th>\n",
       "      <th>weekday</th>\n",
       "      <th>workingday</th>\n",
       "      <th>weathersit</th>\n",
       "      <th>temp</th>\n",
       "      <th>hum</th>\n",
       "      <th>windspeed</th>\n",
       "      <th>...</th>\n",
       "      <th>november</th>\n",
       "      <th>december</th>\n",
       "      <th>monday</th>\n",
       "      <th>tuesday</th>\n",
       "      <th>wednesday</th>\n",
       "      <th>thursday</th>\n",
       "      <th>friday</th>\n",
       "      <th>saturday</th>\n",
       "      <th>mostly cloudy</th>\n",
       "      <th>partly snow &amp; rain</th>\n",
       "    </tr>\n",
       "  </thead>\n",
       "  <tbody>\n",
       "    <tr>\n",
       "      <th>0</th>\n",
       "      <td>spring</td>\n",
       "      <td>0</td>\n",
       "      <td>1</td>\n",
       "      <td>0</td>\n",
       "      <td>1</td>\n",
       "      <td>1</td>\n",
       "      <td>2</td>\n",
       "      <td>14.110847</td>\n",
       "      <td>80.5833</td>\n",
       "      <td>10.749882</td>\n",
       "      <td>...</td>\n",
       "      <td>0</td>\n",
       "      <td>0</td>\n",
       "      <td>1</td>\n",
       "      <td>0</td>\n",
       "      <td>0</td>\n",
       "      <td>0</td>\n",
       "      <td>0</td>\n",
       "      <td>0</td>\n",
       "      <td>1</td>\n",
       "      <td>0</td>\n",
       "    </tr>\n",
       "    <tr>\n",
       "      <th>1</th>\n",
       "      <td>spring</td>\n",
       "      <td>0</td>\n",
       "      <td>1</td>\n",
       "      <td>0</td>\n",
       "      <td>2</td>\n",
       "      <td>1</td>\n",
       "      <td>2</td>\n",
       "      <td>14.902598</td>\n",
       "      <td>69.6087</td>\n",
       "      <td>16.652113</td>\n",
       "      <td>...</td>\n",
       "      <td>0</td>\n",
       "      <td>0</td>\n",
       "      <td>0</td>\n",
       "      <td>1</td>\n",
       "      <td>0</td>\n",
       "      <td>0</td>\n",
       "      <td>0</td>\n",
       "      <td>0</td>\n",
       "      <td>1</td>\n",
       "      <td>0</td>\n",
       "    </tr>\n",
       "    <tr>\n",
       "      <th>2</th>\n",
       "      <td>spring</td>\n",
       "      <td>0</td>\n",
       "      <td>1</td>\n",
       "      <td>0</td>\n",
       "      <td>3</td>\n",
       "      <td>1</td>\n",
       "      <td>1</td>\n",
       "      <td>8.050924</td>\n",
       "      <td>43.7273</td>\n",
       "      <td>16.636703</td>\n",
       "      <td>...</td>\n",
       "      <td>0</td>\n",
       "      <td>0</td>\n",
       "      <td>0</td>\n",
       "      <td>0</td>\n",
       "      <td>1</td>\n",
       "      <td>0</td>\n",
       "      <td>0</td>\n",
       "      <td>0</td>\n",
       "      <td>0</td>\n",
       "      <td>0</td>\n",
       "    </tr>\n",
       "    <tr>\n",
       "      <th>3</th>\n",
       "      <td>spring</td>\n",
       "      <td>0</td>\n",
       "      <td>1</td>\n",
       "      <td>0</td>\n",
       "      <td>4</td>\n",
       "      <td>1</td>\n",
       "      <td>1</td>\n",
       "      <td>8.200000</td>\n",
       "      <td>59.0435</td>\n",
       "      <td>10.739832</td>\n",
       "      <td>...</td>\n",
       "      <td>0</td>\n",
       "      <td>0</td>\n",
       "      <td>0</td>\n",
       "      <td>0</td>\n",
       "      <td>0</td>\n",
       "      <td>1</td>\n",
       "      <td>0</td>\n",
       "      <td>0</td>\n",
       "      <td>0</td>\n",
       "      <td>0</td>\n",
       "    </tr>\n",
       "    <tr>\n",
       "      <th>4</th>\n",
       "      <td>spring</td>\n",
       "      <td>0</td>\n",
       "      <td>1</td>\n",
       "      <td>0</td>\n",
       "      <td>5</td>\n",
       "      <td>1</td>\n",
       "      <td>1</td>\n",
       "      <td>9.305237</td>\n",
       "      <td>43.6957</td>\n",
       "      <td>12.522300</td>\n",
       "      <td>...</td>\n",
       "      <td>0</td>\n",
       "      <td>0</td>\n",
       "      <td>0</td>\n",
       "      <td>0</td>\n",
       "      <td>0</td>\n",
       "      <td>0</td>\n",
       "      <td>1</td>\n",
       "      <td>0</td>\n",
       "      <td>0</td>\n",
       "      <td>0</td>\n",
       "    </tr>\n",
       "  </tbody>\n",
       "</table>\n",
       "<p>5 rows × 33 columns</p>\n",
       "</div>"
      ],
      "text/plain": [
       "   season  yr  mnth  holiday  weekday  workingday  weathersit       temp  \\\n",
       "0  spring   0     1        0        1           1           2  14.110847   \n",
       "1  spring   0     1        0        2           1           2  14.902598   \n",
       "2  spring   0     1        0        3           1           1   8.050924   \n",
       "3  spring   0     1        0        4           1           1   8.200000   \n",
       "4  spring   0     1        0        5           1           1   9.305237   \n",
       "\n",
       "       hum  windspeed  ...  november  december  monday  tuesday  wednesday  \\\n",
       "0  80.5833  10.749882  ...         0         0       1        0          0   \n",
       "1  69.6087  16.652113  ...         0         0       0        1          0   \n",
       "2  43.7273  16.636703  ...         0         0       0        0          1   \n",
       "3  59.0435  10.739832  ...         0         0       0        0          0   \n",
       "4  43.6957  12.522300  ...         0         0       0        0          0   \n",
       "\n",
       "   thursday  friday  saturday  mostly cloudy  partly snow & rain  \n",
       "0         0       0         0              1                   0  \n",
       "1         0       0         0              1                   0  \n",
       "2         0       0         0              0                   0  \n",
       "3         1       0         0              0                   0  \n",
       "4         0       1         0              0                   0  \n",
       "\n",
       "[5 rows x 33 columns]"
      ]
     },
     "execution_count": 34,
     "metadata": {},
     "output_type": "execute_result"
    }
   ],
   "source": [
    "bs_data.head()"
   ]
  },
  {
   "cell_type": "code",
   "execution_count": 35,
   "id": "8e1bdd33",
   "metadata": {},
   "outputs": [],
   "source": [
    "# dropping the original columns where dummies are derived from\n",
    "bs_data.drop([\"season\", \"mnth\", \"weekday\", \"weathersit\"], axis=1,\n",
    "               inplace=True)"
   ]
  },
  {
   "cell_type": "code",
   "execution_count": 37,
   "id": "a78c1484",
   "metadata": {},
   "outputs": [
    {
     "data": {
      "text/plain": [
       "(730, 29)"
      ]
     },
     "execution_count": 37,
     "metadata": {},
     "output_type": "execute_result"
    }
   ],
   "source": [
    "bs_data.shape  # total 29 column remains"
   ]
  },
  {
   "cell_type": "markdown",
   "id": "0acdc798",
   "metadata": {},
   "source": [
    "### data preparation for multiple linear regression"
   ]
  },
  {
   "cell_type": "code",
   "execution_count": 38,
   "id": "77af6db4",
   "metadata": {},
   "outputs": [],
   "source": [
    "# first making X and y variables\n",
    "X = bs_data.drop([\"cnt\"], axis=1)\n",
    "y = bs_data[\"cnt\"]"
   ]
  },
  {
   "cell_type": "code",
   "execution_count": 39,
   "id": "8a251704",
   "metadata": {},
   "outputs": [
    {
     "data": {
      "text/html": [
       "<div>\n",
       "<style scoped>\n",
       "    .dataframe tbody tr th:only-of-type {\n",
       "        vertical-align: middle;\n",
       "    }\n",
       "\n",
       "    .dataframe tbody tr th {\n",
       "        vertical-align: top;\n",
       "    }\n",
       "\n",
       "    .dataframe thead th {\n",
       "        text-align: right;\n",
       "    }\n",
       "</style>\n",
       "<table border=\"1\" class=\"dataframe\">\n",
       "  <thead>\n",
       "    <tr style=\"text-align: right;\">\n",
       "      <th></th>\n",
       "      <th>yr</th>\n",
       "      <th>holiday</th>\n",
       "      <th>workingday</th>\n",
       "      <th>temp</th>\n",
       "      <th>hum</th>\n",
       "      <th>windspeed</th>\n",
       "      <th>spring</th>\n",
       "      <th>summer</th>\n",
       "      <th>winter</th>\n",
       "      <th>feb</th>\n",
       "      <th>...</th>\n",
       "      <th>november</th>\n",
       "      <th>december</th>\n",
       "      <th>monday</th>\n",
       "      <th>tuesday</th>\n",
       "      <th>wednesday</th>\n",
       "      <th>thursday</th>\n",
       "      <th>friday</th>\n",
       "      <th>saturday</th>\n",
       "      <th>mostly cloudy</th>\n",
       "      <th>partly snow &amp; rain</th>\n",
       "    </tr>\n",
       "  </thead>\n",
       "  <tbody>\n",
       "    <tr>\n",
       "      <th>0</th>\n",
       "      <td>0</td>\n",
       "      <td>0</td>\n",
       "      <td>1</td>\n",
       "      <td>14.110847</td>\n",
       "      <td>80.5833</td>\n",
       "      <td>10.749882</td>\n",
       "      <td>1</td>\n",
       "      <td>0</td>\n",
       "      <td>0</td>\n",
       "      <td>0</td>\n",
       "      <td>...</td>\n",
       "      <td>0</td>\n",
       "      <td>0</td>\n",
       "      <td>1</td>\n",
       "      <td>0</td>\n",
       "      <td>0</td>\n",
       "      <td>0</td>\n",
       "      <td>0</td>\n",
       "      <td>0</td>\n",
       "      <td>1</td>\n",
       "      <td>0</td>\n",
       "    </tr>\n",
       "    <tr>\n",
       "      <th>1</th>\n",
       "      <td>0</td>\n",
       "      <td>0</td>\n",
       "      <td>1</td>\n",
       "      <td>14.902598</td>\n",
       "      <td>69.6087</td>\n",
       "      <td>16.652113</td>\n",
       "      <td>1</td>\n",
       "      <td>0</td>\n",
       "      <td>0</td>\n",
       "      <td>0</td>\n",
       "      <td>...</td>\n",
       "      <td>0</td>\n",
       "      <td>0</td>\n",
       "      <td>0</td>\n",
       "      <td>1</td>\n",
       "      <td>0</td>\n",
       "      <td>0</td>\n",
       "      <td>0</td>\n",
       "      <td>0</td>\n",
       "      <td>1</td>\n",
       "      <td>0</td>\n",
       "    </tr>\n",
       "    <tr>\n",
       "      <th>2</th>\n",
       "      <td>0</td>\n",
       "      <td>0</td>\n",
       "      <td>1</td>\n",
       "      <td>8.050924</td>\n",
       "      <td>43.7273</td>\n",
       "      <td>16.636703</td>\n",
       "      <td>1</td>\n",
       "      <td>0</td>\n",
       "      <td>0</td>\n",
       "      <td>0</td>\n",
       "      <td>...</td>\n",
       "      <td>0</td>\n",
       "      <td>0</td>\n",
       "      <td>0</td>\n",
       "      <td>0</td>\n",
       "      <td>1</td>\n",
       "      <td>0</td>\n",
       "      <td>0</td>\n",
       "      <td>0</td>\n",
       "      <td>0</td>\n",
       "      <td>0</td>\n",
       "    </tr>\n",
       "    <tr>\n",
       "      <th>3</th>\n",
       "      <td>0</td>\n",
       "      <td>0</td>\n",
       "      <td>1</td>\n",
       "      <td>8.200000</td>\n",
       "      <td>59.0435</td>\n",
       "      <td>10.739832</td>\n",
       "      <td>1</td>\n",
       "      <td>0</td>\n",
       "      <td>0</td>\n",
       "      <td>0</td>\n",
       "      <td>...</td>\n",
       "      <td>0</td>\n",
       "      <td>0</td>\n",
       "      <td>0</td>\n",
       "      <td>0</td>\n",
       "      <td>0</td>\n",
       "      <td>1</td>\n",
       "      <td>0</td>\n",
       "      <td>0</td>\n",
       "      <td>0</td>\n",
       "      <td>0</td>\n",
       "    </tr>\n",
       "    <tr>\n",
       "      <th>4</th>\n",
       "      <td>0</td>\n",
       "      <td>0</td>\n",
       "      <td>1</td>\n",
       "      <td>9.305237</td>\n",
       "      <td>43.6957</td>\n",
       "      <td>12.522300</td>\n",
       "      <td>1</td>\n",
       "      <td>0</td>\n",
       "      <td>0</td>\n",
       "      <td>0</td>\n",
       "      <td>...</td>\n",
       "      <td>0</td>\n",
       "      <td>0</td>\n",
       "      <td>0</td>\n",
       "      <td>0</td>\n",
       "      <td>0</td>\n",
       "      <td>0</td>\n",
       "      <td>1</td>\n",
       "      <td>0</td>\n",
       "      <td>0</td>\n",
       "      <td>0</td>\n",
       "    </tr>\n",
       "  </tbody>\n",
       "</table>\n",
       "<p>5 rows × 28 columns</p>\n",
       "</div>"
      ],
      "text/plain": [
       "   yr  holiday  workingday       temp      hum  windspeed  spring  summer  \\\n",
       "0   0        0           1  14.110847  80.5833  10.749882       1       0   \n",
       "1   0        0           1  14.902598  69.6087  16.652113       1       0   \n",
       "2   0        0           1   8.050924  43.7273  16.636703       1       0   \n",
       "3   0        0           1   8.200000  59.0435  10.739832       1       0   \n",
       "4   0        0           1   9.305237  43.6957  12.522300       1       0   \n",
       "\n",
       "   winter  feb  ...  november  december  monday  tuesday  wednesday  thursday  \\\n",
       "0       0    0  ...         0         0       1        0          0         0   \n",
       "1       0    0  ...         0         0       0        1          0         0   \n",
       "2       0    0  ...         0         0       0        0          1         0   \n",
       "3       0    0  ...         0         0       0        0          0         1   \n",
       "4       0    0  ...         0         0       0        0          0         0   \n",
       "\n",
       "   friday  saturday  mostly cloudy  partly snow & rain  \n",
       "0       0         0              1                   0  \n",
       "1       0         0              1                   0  \n",
       "2       0         0              0                   0  \n",
       "3       0         0              0                   0  \n",
       "4       1         0              0                   0  \n",
       "\n",
       "[5 rows x 28 columns]"
      ]
     },
     "execution_count": 39,
     "metadata": {},
     "output_type": "execute_result"
    }
   ],
   "source": [
    "X.head()"
   ]
  },
  {
   "cell_type": "code",
   "execution_count": 40,
   "id": "76269567",
   "metadata": {},
   "outputs": [
    {
     "data": {
      "text/plain": [
       "0     985\n",
       "1     801\n",
       "2    1349\n",
       "3    1562\n",
       "4    1600\n",
       "Name: cnt, dtype: int64"
      ]
     },
     "execution_count": 40,
     "metadata": {},
     "output_type": "execute_result"
    }
   ],
   "source": [
    "y.head()"
   ]
  },
  {
   "cell_type": "code",
   "execution_count": 41,
   "id": "295226dc",
   "metadata": {},
   "outputs": [],
   "source": [
    "# making split for train and test data\n",
    "from sklearn.model_selection import train_test_split\n",
    "x_train,x_test,y_train,y_test=train_test_split(X,y,test_size=0.2,random_state=100)"
   ]
  },
  {
   "cell_type": "code",
   "execution_count": 42,
   "id": "fa65f585",
   "metadata": {},
   "outputs": [
    {
     "data": {
      "text/plain": [
       "((584, 28), (146, 28), (584,), (146,))"
      ]
     },
     "execution_count": 42,
     "metadata": {},
     "output_type": "execute_result"
    }
   ],
   "source": [
    "# checking the shape of train and test data\n",
    "x_train.shape,x_test.shape,y_train.shape,y_test.shape"
   ]
  },
  {
   "cell_type": "markdown",
   "id": "a4a9408d",
   "metadata": {},
   "source": [
    "### Scaling the data"
   ]
  },
  {
   "cell_type": "code",
   "execution_count": 44,
   "id": "d7071050",
   "metadata": {},
   "outputs": [],
   "source": [
    "# scaling the data using z=(x-xmean)/std formula\n",
    "x_train = (x_train-x_train.mean())/x_train.std()\n",
    "x_test = (x_test-x_test.mean())/x_test.std()"
   ]
  },
  {
   "cell_type": "code",
   "execution_count": 45,
   "id": "8cd62b95",
   "metadata": {},
   "outputs": [
    {
     "data": {
      "text/html": [
       "<div>\n",
       "<style scoped>\n",
       "    .dataframe tbody tr th:only-of-type {\n",
       "        vertical-align: middle;\n",
       "    }\n",
       "\n",
       "    .dataframe tbody tr th {\n",
       "        vertical-align: top;\n",
       "    }\n",
       "\n",
       "    .dataframe thead th {\n",
       "        text-align: right;\n",
       "    }\n",
       "</style>\n",
       "<table border=\"1\" class=\"dataframe\">\n",
       "  <thead>\n",
       "    <tr style=\"text-align: right;\">\n",
       "      <th></th>\n",
       "      <th>yr</th>\n",
       "      <th>holiday</th>\n",
       "      <th>workingday</th>\n",
       "      <th>temp</th>\n",
       "      <th>hum</th>\n",
       "      <th>windspeed</th>\n",
       "      <th>spring</th>\n",
       "      <th>summer</th>\n",
       "      <th>winter</th>\n",
       "      <th>feb</th>\n",
       "      <th>...</th>\n",
       "      <th>november</th>\n",
       "      <th>december</th>\n",
       "      <th>monday</th>\n",
       "      <th>tuesday</th>\n",
       "      <th>wednesday</th>\n",
       "      <th>thursday</th>\n",
       "      <th>friday</th>\n",
       "      <th>saturday</th>\n",
       "      <th>mostly cloudy</th>\n",
       "      <th>partly snow &amp; rain</th>\n",
       "    </tr>\n",
       "  </thead>\n",
       "  <tbody>\n",
       "    <tr>\n",
       "      <th>367</th>\n",
       "      <td>0.972135</td>\n",
       "      <td>-0.167693</td>\n",
       "      <td>0.613769</td>\n",
       "      <td>-1.882464</td>\n",
       "      <td>-1.350708</td>\n",
       "      <td>2.234862</td>\n",
       "      <td>1.722701</td>\n",
       "      <td>-0.571588</td>\n",
       "      <td>-0.576856</td>\n",
       "      <td>-0.281685</td>\n",
       "      <td>...</td>\n",
       "      <td>-0.29559</td>\n",
       "      <td>-0.309065</td>\n",
       "      <td>-0.429265</td>\n",
       "      <td>-0.434839</td>\n",
       "      <td>-0.398068</td>\n",
       "      <td>2.420854</td>\n",
       "      <td>-0.423663</td>\n",
       "      <td>-0.368719</td>\n",
       "      <td>-0.721070</td>\n",
       "      <td>-0.167693</td>\n",
       "    </tr>\n",
       "    <tr>\n",
       "      <th>648</th>\n",
       "      <td>0.972135</td>\n",
       "      <td>-0.167693</td>\n",
       "      <td>0.613769</td>\n",
       "      <td>-0.306487</td>\n",
       "      <td>-1.192918</td>\n",
       "      <td>-0.119042</td>\n",
       "      <td>-0.579490</td>\n",
       "      <td>-0.571588</td>\n",
       "      <td>1.730567</td>\n",
       "      <td>-0.281685</td>\n",
       "      <td>...</td>\n",
       "      <td>-0.29559</td>\n",
       "      <td>-0.309065</td>\n",
       "      <td>-0.429265</td>\n",
       "      <td>-0.434839</td>\n",
       "      <td>-0.398068</td>\n",
       "      <td>-0.412370</td>\n",
       "      <td>2.356326</td>\n",
       "      <td>-0.368719</td>\n",
       "      <td>-0.721070</td>\n",
       "      <td>-0.167693</td>\n",
       "    </tr>\n",
       "    <tr>\n",
       "      <th>44</th>\n",
       "      <td>-1.026903</td>\n",
       "      <td>-0.167693</td>\n",
       "      <td>0.613769</td>\n",
       "      <td>-0.417082</td>\n",
       "      <td>-1.818132</td>\n",
       "      <td>2.902856</td>\n",
       "      <td>1.722701</td>\n",
       "      <td>-0.571588</td>\n",
       "      <td>-0.576856</td>\n",
       "      <td>3.543988</td>\n",
       "      <td>...</td>\n",
       "      <td>-0.29559</td>\n",
       "      <td>-0.309065</td>\n",
       "      <td>-0.429265</td>\n",
       "      <td>-0.434839</td>\n",
       "      <td>2.507830</td>\n",
       "      <td>-0.412370</td>\n",
       "      <td>-0.423663</td>\n",
       "      <td>-0.368719</td>\n",
       "      <td>-0.721070</td>\n",
       "      <td>-0.167693</td>\n",
       "    </tr>\n",
       "    <tr>\n",
       "      <th>705</th>\n",
       "      <td>0.972135</td>\n",
       "      <td>-0.167693</td>\n",
       "      <td>-1.626488</td>\n",
       "      <td>-0.937801</td>\n",
       "      <td>0.956630</td>\n",
       "      <td>-0.771166</td>\n",
       "      <td>-0.579490</td>\n",
       "      <td>-0.571588</td>\n",
       "      <td>1.730567</td>\n",
       "      <td>-0.281685</td>\n",
       "      <td>...</td>\n",
       "      <td>-0.29559</td>\n",
       "      <td>3.230029</td>\n",
       "      <td>-0.429265</td>\n",
       "      <td>-0.434839</td>\n",
       "      <td>-0.398068</td>\n",
       "      <td>-0.412370</td>\n",
       "      <td>-0.423663</td>\n",
       "      <td>2.707450</td>\n",
       "      <td>1.384454</td>\n",
       "      <td>-0.167693</td>\n",
       "    </tr>\n",
       "    <tr>\n",
       "      <th>379</th>\n",
       "      <td>0.972135</td>\n",
       "      <td>-0.167693</td>\n",
       "      <td>0.613769</td>\n",
       "      <td>-1.790299</td>\n",
       "      <td>-1.508497</td>\n",
       "      <td>0.771778</td>\n",
       "      <td>1.722701</td>\n",
       "      <td>-0.571588</td>\n",
       "      <td>-0.576856</td>\n",
       "      <td>-0.281685</td>\n",
       "      <td>...</td>\n",
       "      <td>-0.29559</td>\n",
       "      <td>-0.309065</td>\n",
       "      <td>-0.429265</td>\n",
       "      <td>2.295763</td>\n",
       "      <td>-0.398068</td>\n",
       "      <td>-0.412370</td>\n",
       "      <td>-0.423663</td>\n",
       "      <td>-0.368719</td>\n",
       "      <td>-0.721070</td>\n",
       "      <td>-0.167693</td>\n",
       "    </tr>\n",
       "  </tbody>\n",
       "</table>\n",
       "<p>5 rows × 28 columns</p>\n",
       "</div>"
      ],
      "text/plain": [
       "           yr   holiday  workingday      temp       hum  windspeed    spring  \\\n",
       "367  0.972135 -0.167693    0.613769 -1.882464 -1.350708   2.234862  1.722701   \n",
       "648  0.972135 -0.167693    0.613769 -0.306487 -1.192918  -0.119042 -0.579490   \n",
       "44  -1.026903 -0.167693    0.613769 -0.417082 -1.818132   2.902856  1.722701   \n",
       "705  0.972135 -0.167693   -1.626488 -0.937801  0.956630  -0.771166 -0.579490   \n",
       "379  0.972135 -0.167693    0.613769 -1.790299 -1.508497   0.771778  1.722701   \n",
       "\n",
       "       summer    winter       feb  ...  november  december    monday  \\\n",
       "367 -0.571588 -0.576856 -0.281685  ...  -0.29559 -0.309065 -0.429265   \n",
       "648 -0.571588  1.730567 -0.281685  ...  -0.29559 -0.309065 -0.429265   \n",
       "44  -0.571588 -0.576856  3.543988  ...  -0.29559 -0.309065 -0.429265   \n",
       "705 -0.571588  1.730567 -0.281685  ...  -0.29559  3.230029 -0.429265   \n",
       "379 -0.571588 -0.576856 -0.281685  ...  -0.29559 -0.309065 -0.429265   \n",
       "\n",
       "      tuesday  wednesday  thursday    friday  saturday  mostly cloudy  \\\n",
       "367 -0.434839  -0.398068  2.420854 -0.423663 -0.368719      -0.721070   \n",
       "648 -0.434839  -0.398068 -0.412370  2.356326 -0.368719      -0.721070   \n",
       "44  -0.434839   2.507830 -0.412370 -0.423663 -0.368719      -0.721070   \n",
       "705 -0.434839  -0.398068 -0.412370 -0.423663  2.707450       1.384454   \n",
       "379  2.295763  -0.398068 -0.412370 -0.423663 -0.368719      -0.721070   \n",
       "\n",
       "     partly snow & rain  \n",
       "367           -0.167693  \n",
       "648           -0.167693  \n",
       "44            -0.167693  \n",
       "705           -0.167693  \n",
       "379           -0.167693  \n",
       "\n",
       "[5 rows x 28 columns]"
      ]
     },
     "execution_count": 45,
     "metadata": {},
     "output_type": "execute_result"
    }
   ],
   "source": [
    "# checking the scaled variables\n",
    "x_train.head()"
   ]
  },
  {
   "cell_type": "code",
   "execution_count": 46,
   "id": "b188adb1",
   "metadata": {},
   "outputs": [
    {
     "data": {
      "text/html": [
       "<div>\n",
       "<style scoped>\n",
       "    .dataframe tbody tr th:only-of-type {\n",
       "        vertical-align: middle;\n",
       "    }\n",
       "\n",
       "    .dataframe tbody tr th {\n",
       "        vertical-align: top;\n",
       "    }\n",
       "\n",
       "    .dataframe thead th {\n",
       "        text-align: right;\n",
       "    }\n",
       "</style>\n",
       "<table border=\"1\" class=\"dataframe\">\n",
       "  <thead>\n",
       "    <tr style=\"text-align: right;\">\n",
       "      <th></th>\n",
       "      <th>yr</th>\n",
       "      <th>holiday</th>\n",
       "      <th>workingday</th>\n",
       "      <th>temp</th>\n",
       "      <th>hum</th>\n",
       "      <th>windspeed</th>\n",
       "      <th>spring</th>\n",
       "      <th>summer</th>\n",
       "      <th>winter</th>\n",
       "      <th>feb</th>\n",
       "      <th>...</th>\n",
       "      <th>november</th>\n",
       "      <th>december</th>\n",
       "      <th>monday</th>\n",
       "      <th>tuesday</th>\n",
       "      <th>wednesday</th>\n",
       "      <th>thursday</th>\n",
       "      <th>friday</th>\n",
       "      <th>saturday</th>\n",
       "      <th>mostly cloudy</th>\n",
       "      <th>partly snow &amp; rain</th>\n",
       "    </tr>\n",
       "  </thead>\n",
       "  <tbody>\n",
       "    <tr>\n",
       "      <th>184</th>\n",
       "      <td>-0.892733</td>\n",
       "      <td>5.292150</td>\n",
       "      <td>-1.097187</td>\n",
       "      <td>1.101193</td>\n",
       "      <td>0.137062</td>\n",
       "      <td>-1.429568</td>\n",
       "      <td>-0.538549</td>\n",
       "      <td>-0.612188</td>\n",
       "      <td>-0.527995</td>\n",
       "      <td>-0.311568</td>\n",
       "      <td>...</td>\n",
       "      <td>-0.311568</td>\n",
       "      <td>-0.28447</td>\n",
       "      <td>-0.324552</td>\n",
       "      <td>-0.298226</td>\n",
       "      <td>2.246890</td>\n",
       "      <td>-0.385463</td>\n",
       "      <td>-0.337223</td>\n",
       "      <td>-0.549083</td>\n",
       "      <td>1.469362</td>\n",
       "      <td>-0.187665</td>\n",
       "    </tr>\n",
       "    <tr>\n",
       "      <th>535</th>\n",
       "      <td>1.112483</td>\n",
       "      <td>-0.187665</td>\n",
       "      <td>0.905179</td>\n",
       "      <td>1.393399</td>\n",
       "      <td>-0.165012</td>\n",
       "      <td>-0.999233</td>\n",
       "      <td>-0.538549</td>\n",
       "      <td>1.622298</td>\n",
       "      <td>-0.527995</td>\n",
       "      <td>-0.311568</td>\n",
       "      <td>...</td>\n",
       "      <td>-0.311568</td>\n",
       "      <td>-0.28447</td>\n",
       "      <td>-0.324552</td>\n",
       "      <td>-0.298226</td>\n",
       "      <td>-0.442011</td>\n",
       "      <td>2.576515</td>\n",
       "      <td>-0.337223</td>\n",
       "      <td>-0.549083</td>\n",
       "      <td>-0.675906</td>\n",
       "      <td>-0.187665</td>\n",
       "    </tr>\n",
       "    <tr>\n",
       "      <th>299</th>\n",
       "      <td>-0.892733</td>\n",
       "      <td>-0.187665</td>\n",
       "      <td>-1.097187</td>\n",
       "      <td>-0.242093</td>\n",
       "      <td>1.290418</td>\n",
       "      <td>0.118115</td>\n",
       "      <td>-0.538549</td>\n",
       "      <td>-0.612188</td>\n",
       "      <td>1.880984</td>\n",
       "      <td>-0.311568</td>\n",
       "      <td>...</td>\n",
       "      <td>-0.311568</td>\n",
       "      <td>-0.28447</td>\n",
       "      <td>-0.324552</td>\n",
       "      <td>-0.298226</td>\n",
       "      <td>-0.442011</td>\n",
       "      <td>-0.385463</td>\n",
       "      <td>-0.337223</td>\n",
       "      <td>1.808744</td>\n",
       "      <td>1.469362</td>\n",
       "      <td>-0.187665</td>\n",
       "    </tr>\n",
       "    <tr>\n",
       "      <th>221</th>\n",
       "      <td>-0.892733</td>\n",
       "      <td>-0.187665</td>\n",
       "      <td>0.905179</td>\n",
       "      <td>1.310535</td>\n",
       "      <td>-1.271680</td>\n",
       "      <td>0.151322</td>\n",
       "      <td>-0.538549</td>\n",
       "      <td>-0.612188</td>\n",
       "      <td>-0.527995</td>\n",
       "      <td>-0.311568</td>\n",
       "      <td>...</td>\n",
       "      <td>-0.311568</td>\n",
       "      <td>-0.28447</td>\n",
       "      <td>-0.324552</td>\n",
       "      <td>-0.298226</td>\n",
       "      <td>-0.442011</td>\n",
       "      <td>-0.385463</td>\n",
       "      <td>2.945083</td>\n",
       "      <td>-0.549083</td>\n",
       "      <td>-0.675906</td>\n",
       "      <td>-0.187665</td>\n",
       "    </tr>\n",
       "    <tr>\n",
       "      <th>152</th>\n",
       "      <td>-0.892733</td>\n",
       "      <td>-0.187665</td>\n",
       "      <td>-1.097187</td>\n",
       "      <td>1.040132</td>\n",
       "      <td>-2.057063</td>\n",
       "      <td>1.376185</td>\n",
       "      <td>-0.538549</td>\n",
       "      <td>1.622298</td>\n",
       "      <td>-0.527995</td>\n",
       "      <td>-0.311568</td>\n",
       "      <td>...</td>\n",
       "      <td>-0.311568</td>\n",
       "      <td>-0.28447</td>\n",
       "      <td>-0.324552</td>\n",
       "      <td>-0.298226</td>\n",
       "      <td>-0.442011</td>\n",
       "      <td>-0.385463</td>\n",
       "      <td>-0.337223</td>\n",
       "      <td>1.808744</td>\n",
       "      <td>-0.675906</td>\n",
       "      <td>-0.187665</td>\n",
       "    </tr>\n",
       "  </tbody>\n",
       "</table>\n",
       "<p>5 rows × 28 columns</p>\n",
       "</div>"
      ],
      "text/plain": [
       "           yr   holiday  workingday      temp       hum  windspeed    spring  \\\n",
       "184 -0.892733  5.292150   -1.097187  1.101193  0.137062  -1.429568 -0.538549   \n",
       "535  1.112483 -0.187665    0.905179  1.393399 -0.165012  -0.999233 -0.538549   \n",
       "299 -0.892733 -0.187665   -1.097187 -0.242093  1.290418   0.118115 -0.538549   \n",
       "221 -0.892733 -0.187665    0.905179  1.310535 -1.271680   0.151322 -0.538549   \n",
       "152 -0.892733 -0.187665   -1.097187  1.040132 -2.057063   1.376185 -0.538549   \n",
       "\n",
       "       summer    winter       feb  ...  november  december    monday  \\\n",
       "184 -0.612188 -0.527995 -0.311568  ... -0.311568  -0.28447 -0.324552   \n",
       "535  1.622298 -0.527995 -0.311568  ... -0.311568  -0.28447 -0.324552   \n",
       "299 -0.612188  1.880984 -0.311568  ... -0.311568  -0.28447 -0.324552   \n",
       "221 -0.612188 -0.527995 -0.311568  ... -0.311568  -0.28447 -0.324552   \n",
       "152  1.622298 -0.527995 -0.311568  ... -0.311568  -0.28447 -0.324552   \n",
       "\n",
       "      tuesday  wednesday  thursday    friday  saturday  mostly cloudy  \\\n",
       "184 -0.298226   2.246890 -0.385463 -0.337223 -0.549083       1.469362   \n",
       "535 -0.298226  -0.442011  2.576515 -0.337223 -0.549083      -0.675906   \n",
       "299 -0.298226  -0.442011 -0.385463 -0.337223  1.808744       1.469362   \n",
       "221 -0.298226  -0.442011 -0.385463  2.945083 -0.549083      -0.675906   \n",
       "152 -0.298226  -0.442011 -0.385463 -0.337223  1.808744      -0.675906   \n",
       "\n",
       "     partly snow & rain  \n",
       "184           -0.187665  \n",
       "535           -0.187665  \n",
       "299           -0.187665  \n",
       "221           -0.187665  \n",
       "152           -0.187665  \n",
       "\n",
       "[5 rows x 28 columns]"
      ]
     },
     "execution_count": 46,
     "metadata": {},
     "output_type": "execute_result"
    }
   ],
   "source": [
    "x_test.head()"
   ]
  },
  {
   "cell_type": "markdown",
   "id": "52d16aad",
   "metadata": {},
   "source": [
    "### modelling for the data"
   ]
  },
  {
   "cell_type": "code",
   "execution_count": 47,
   "id": "2fa5eef1",
   "metadata": {},
   "outputs": [],
   "source": [
    "# feature selection using automated method RFE\n",
    "from sklearn.feature_selection import RFE\n",
    "from sklearn.linear_model import LinearRegression"
   ]
  },
  {
   "cell_type": "code",
   "execution_count": 48,
   "id": "003b9d0d",
   "metadata": {},
   "outputs": [
    {
     "data": {
      "text/plain": [
       "array([ True, False, False,  True,  True,  True,  True,  True,  True,\n",
       "       False, False, False, False, False, False, False,  True, False,\n",
       "       False, False, False, False, False, False, False, False,  True,\n",
       "        True])"
      ]
     },
     "execution_count": 48,
     "metadata": {},
     "output_type": "execute_result"
    }
   ],
   "source": [
    "# selecting the 10 columns for the modelling\n",
    "est=LinearRegression()\n",
    "select=RFE(est,n_features_to_select=10)\n",
    "select=select.fit(x_train,y_train)\n",
    "select.support_"
   ]
  },
  {
   "cell_type": "code",
   "execution_count": 49,
   "id": "446bdbcd",
   "metadata": {},
   "outputs": [],
   "source": [
    "selected_cols=[]\n",
    "for i,j in zip(select.support_,x_train.columns):\n",
    "    if i==True:\n",
    "        selected_cols.append(j)"
   ]
  },
  {
   "cell_type": "code",
   "execution_count": 50,
   "id": "a1b0eaf7",
   "metadata": {},
   "outputs": [
    {
     "data": {
      "text/plain": [
       "['yr',\n",
       " 'temp',\n",
       " 'hum',\n",
       " 'windspeed',\n",
       " 'spring',\n",
       " 'summer',\n",
       " 'winter',\n",
       " 'september',\n",
       " 'mostly cloudy',\n",
       " 'partly snow & rain']"
      ]
     },
     "execution_count": 50,
     "metadata": {},
     "output_type": "execute_result"
    }
   ],
   "source": [
    "selected_cols"
   ]
  },
  {
   "cell_type": "code",
   "execution_count": 51,
   "id": "46bf3a32",
   "metadata": {},
   "outputs": [],
   "source": [
    "# putting the variables in train and test variables\n",
    "x_train = x_train[selected_cols]\n",
    "x_test= x_test[selected_cols]"
   ]
  },
  {
   "cell_type": "code",
   "execution_count": 52,
   "id": "a6311b3f",
   "metadata": {},
   "outputs": [],
   "source": [
    "# adding constant to x_train and x_test variables\n",
    "import statsmodels.api as sm\n",
    "x_train=sm.add_constant(x_train)\n",
    "x_test=sm.add_constant(x_test)"
   ]
  },
  {
   "cell_type": "code",
   "execution_count": 53,
   "id": "cbd54383",
   "metadata": {},
   "outputs": [
    {
     "data": {
      "text/html": [
       "<table class=\"simpletable\">\n",
       "<caption>OLS Regression Results</caption>\n",
       "<tr>\n",
       "  <th>Dep. Variable:</th>           <td>cnt</td>       <th>  R-squared:         </th> <td>   0.836</td> \n",
       "</tr>\n",
       "<tr>\n",
       "  <th>Model:</th>                   <td>OLS</td>       <th>  Adj. R-squared:    </th> <td>   0.833</td> \n",
       "</tr>\n",
       "<tr>\n",
       "  <th>Method:</th>             <td>Least Squares</td>  <th>  F-statistic:       </th> <td>   292.7</td> \n",
       "</tr>\n",
       "<tr>\n",
       "  <th>Date:</th>             <td>Mon, 01 Aug 2022</td> <th>  Prob (F-statistic):</th> <td>9.93e-218</td>\n",
       "</tr>\n",
       "<tr>\n",
       "  <th>Time:</th>                 <td>16:55:59</td>     <th>  Log-Likelihood:    </th> <td> -4726.5</td> \n",
       "</tr>\n",
       "<tr>\n",
       "  <th>No. Observations:</th>      <td>   584</td>      <th>  AIC:               </th> <td>   9475.</td> \n",
       "</tr>\n",
       "<tr>\n",
       "  <th>Df Residuals:</th>          <td>   573</td>      <th>  BIC:               </th> <td>   9523.</td> \n",
       "</tr>\n",
       "<tr>\n",
       "  <th>Df Model:</th>              <td>    10</td>      <th>                     </th>     <td> </td>    \n",
       "</tr>\n",
       "<tr>\n",
       "  <th>Covariance Type:</th>      <td>nonrobust</td>    <th>                     </th>     <td> </td>    \n",
       "</tr>\n",
       "</table>\n",
       "<table class=\"simpletable\">\n",
       "<tr>\n",
       "           <td></td>             <th>coef</th>     <th>std err</th>      <th>t</th>      <th>P>|t|</th>  <th>[0.025</th>    <th>0.975]</th>  \n",
       "</tr>\n",
       "<tr>\n",
       "  <th>const</th>              <td> 4505.2671</td> <td>   33.079</td> <td>  136.196</td> <td> 0.000</td> <td> 4440.296</td> <td> 4570.239</td>\n",
       "</tr>\n",
       "<tr>\n",
       "  <th>yr</th>                 <td>  981.3706</td> <td>   33.612</td> <td>   29.197</td> <td> 0.000</td> <td>  915.352</td> <td> 1047.389</td>\n",
       "</tr>\n",
       "<tr>\n",
       "  <th>temp</th>               <td> 1036.9628</td> <td>   61.613</td> <td>   16.830</td> <td> 0.000</td> <td>  915.947</td> <td> 1157.979</td>\n",
       "</tr>\n",
       "<tr>\n",
       "  <th>hum</th>                <td> -203.4023</td> <td>   45.873</td> <td>   -4.434</td> <td> 0.000</td> <td> -293.502</td> <td> -113.302</td>\n",
       "</tr>\n",
       "<tr>\n",
       "  <th>windspeed</th>          <td> -259.9366</td> <td>   36.115</td> <td>   -7.197</td> <td> 0.000</td> <td> -330.871</td> <td> -189.002</td>\n",
       "</tr>\n",
       "<tr>\n",
       "  <th>spring</th>             <td> -187.2796</td> <td>   73.315</td> <td>   -2.554</td> <td> 0.011</td> <td> -331.278</td> <td>  -43.281</td>\n",
       "</tr>\n",
       "<tr>\n",
       "  <th>summer</th>             <td>  269.2963</td> <td>   49.401</td> <td>    5.451</td> <td> 0.000</td> <td>  172.267</td> <td>  366.326</td>\n",
       "</tr>\n",
       "<tr>\n",
       "  <th>winter</th>             <td>  432.7633</td> <td>   58.821</td> <td>    7.357</td> <td> 0.000</td> <td>  317.232</td> <td>  548.294</td>\n",
       "</tr>\n",
       "<tr>\n",
       "  <th>september</th>          <td>  210.3696</td> <td>   35.831</td> <td>    5.871</td> <td> 0.000</td> <td>  139.993</td> <td>  280.746</td>\n",
       "</tr>\n",
       "<tr>\n",
       "  <th>mostly cloudy</th>      <td> -205.7383</td> <td>   41.674</td> <td>   -4.937</td> <td> 0.000</td> <td> -287.591</td> <td> -123.886</td>\n",
       "</tr>\n",
       "<tr>\n",
       "  <th>partly snow & rain</th> <td> -341.3494</td> <td>   36.837</td> <td>   -9.267</td> <td> 0.000</td> <td> -413.701</td> <td> -268.998</td>\n",
       "</tr>\n",
       "</table>\n",
       "<table class=\"simpletable\">\n",
       "<tr>\n",
       "  <th>Omnibus:</th>       <td>96.588</td> <th>  Durbin-Watson:     </th> <td>   2.025</td>\n",
       "</tr>\n",
       "<tr>\n",
       "  <th>Prob(Omnibus):</th> <td> 0.000</td> <th>  Jarque-Bera (JB):  </th> <td> 241.608</td>\n",
       "</tr>\n",
       "<tr>\n",
       "  <th>Skew:</th>          <td>-0.850</td> <th>  Prob(JB):          </th> <td>3.43e-53</td>\n",
       "</tr>\n",
       "<tr>\n",
       "  <th>Kurtosis:</th>      <td> 5.653</td> <th>  Cond. No.          </th> <td>    4.78</td>\n",
       "</tr>\n",
       "</table><br/><br/>Notes:<br/>[1] Standard Errors assume that the covariance matrix of the errors is correctly specified."
      ],
      "text/plain": [
       "<class 'statsmodels.iolib.summary.Summary'>\n",
       "\"\"\"\n",
       "                            OLS Regression Results                            \n",
       "==============================================================================\n",
       "Dep. Variable:                    cnt   R-squared:                       0.836\n",
       "Model:                            OLS   Adj. R-squared:                  0.833\n",
       "Method:                 Least Squares   F-statistic:                     292.7\n",
       "Date:                Mon, 01 Aug 2022   Prob (F-statistic):          9.93e-218\n",
       "Time:                        16:55:59   Log-Likelihood:                -4726.5\n",
       "No. Observations:                 584   AIC:                             9475.\n",
       "Df Residuals:                     573   BIC:                             9523.\n",
       "Df Model:                          10                                         \n",
       "Covariance Type:            nonrobust                                         \n",
       "======================================================================================\n",
       "                         coef    std err          t      P>|t|      [0.025      0.975]\n",
       "--------------------------------------------------------------------------------------\n",
       "const               4505.2671     33.079    136.196      0.000    4440.296    4570.239\n",
       "yr                   981.3706     33.612     29.197      0.000     915.352    1047.389\n",
       "temp                1036.9628     61.613     16.830      0.000     915.947    1157.979\n",
       "hum                 -203.4023     45.873     -4.434      0.000    -293.502    -113.302\n",
       "windspeed           -259.9366     36.115     -7.197      0.000    -330.871    -189.002\n",
       "spring              -187.2796     73.315     -2.554      0.011    -331.278     -43.281\n",
       "summer               269.2963     49.401      5.451      0.000     172.267     366.326\n",
       "winter               432.7633     58.821      7.357      0.000     317.232     548.294\n",
       "september            210.3696     35.831      5.871      0.000     139.993     280.746\n",
       "mostly cloudy       -205.7383     41.674     -4.937      0.000    -287.591    -123.886\n",
       "partly snow & rain  -341.3494     36.837     -9.267      0.000    -413.701    -268.998\n",
       "==============================================================================\n",
       "Omnibus:                       96.588   Durbin-Watson:                   2.025\n",
       "Prob(Omnibus):                  0.000   Jarque-Bera (JB):              241.608\n",
       "Skew:                          -0.850   Prob(JB):                     3.43e-53\n",
       "Kurtosis:                       5.653   Cond. No.                         4.78\n",
       "==============================================================================\n",
       "\n",
       "Notes:\n",
       "[1] Standard Errors assume that the covariance matrix of the errors is correctly specified.\n",
       "\"\"\""
      ]
     },
     "execution_count": 53,
     "metadata": {},
     "output_type": "execute_result"
    }
   ],
   "source": [
    "# making the model using Ordinary Least Squares method (OLS)\n",
    "model_1 = sm.OLS(y_train,x_train)\n",
    "result_1 = model_1.fit()\n",
    "result_1.summary()\n",
    "# model has adjusted R-squared = 0.833 that is great"
   ]
  },
  {
   "cell_type": "code",
   "execution_count": 54,
   "id": "7fb905c7",
   "metadata": {},
   "outputs": [
    {
     "data": {
      "text/html": [
       "<div>\n",
       "<style scoped>\n",
       "    .dataframe tbody tr th:only-of-type {\n",
       "        vertical-align: middle;\n",
       "    }\n",
       "\n",
       "    .dataframe tbody tr th {\n",
       "        vertical-align: top;\n",
       "    }\n",
       "\n",
       "    .dataframe thead th {\n",
       "        text-align: right;\n",
       "    }\n",
       "</style>\n",
       "<table border=\"1\" class=\"dataframe\">\n",
       "  <thead>\n",
       "    <tr style=\"text-align: right;\">\n",
       "      <th></th>\n",
       "      <th>Feature</th>\n",
       "      <th>VIF</th>\n",
       "    </tr>\n",
       "  </thead>\n",
       "  <tbody>\n",
       "    <tr>\n",
       "      <th>0</th>\n",
       "      <td>const</td>\n",
       "      <td>1.000000</td>\n",
       "    </tr>\n",
       "    <tr>\n",
       "      <th>1</th>\n",
       "      <td>yr</td>\n",
       "      <td>1.030723</td>\n",
       "    </tr>\n",
       "    <tr>\n",
       "      <th>2</th>\n",
       "      <td>temp</td>\n",
       "      <td>3.463339</td>\n",
       "    </tr>\n",
       "    <tr>\n",
       "      <th>3</th>\n",
       "      <td>hum</td>\n",
       "      <td>1.919813</td>\n",
       "    </tr>\n",
       "    <tr>\n",
       "      <th>4</th>\n",
       "      <td>windspeed</td>\n",
       "      <td>1.189952</td>\n",
       "    </tr>\n",
       "    <tr>\n",
       "      <th>5</th>\n",
       "      <td>spring</td>\n",
       "      <td>4.903736</td>\n",
       "    </tr>\n",
       "    <tr>\n",
       "      <th>6</th>\n",
       "      <td>summer</td>\n",
       "      <td>2.226473</td>\n",
       "    </tr>\n",
       "    <tr>\n",
       "      <th>7</th>\n",
       "      <td>winter</td>\n",
       "      <td>3.156521</td>\n",
       "    </tr>\n",
       "    <tr>\n",
       "      <th>8</th>\n",
       "      <td>september</td>\n",
       "      <td>1.171280</td>\n",
       "    </tr>\n",
       "    <tr>\n",
       "      <th>9</th>\n",
       "      <td>mostly cloudy</td>\n",
       "      <td>1.584426</td>\n",
       "    </tr>\n",
       "    <tr>\n",
       "      <th>10</th>\n",
       "      <td>partly snow &amp; rain</td>\n",
       "      <td>1.237953</td>\n",
       "    </tr>\n",
       "  </tbody>\n",
       "</table>\n",
       "</div>"
      ],
      "text/plain": [
       "               Feature       VIF\n",
       "0                const  1.000000\n",
       "1                   yr  1.030723\n",
       "2                 temp  3.463339\n",
       "3                  hum  1.919813\n",
       "4            windspeed  1.189952\n",
       "5               spring  4.903736\n",
       "6               summer  2.226473\n",
       "7               winter  3.156521\n",
       "8            september  1.171280\n",
       "9        mostly cloudy  1.584426\n",
       "10  partly snow & rain  1.237953"
      ]
     },
     "execution_count": 54,
     "metadata": {},
     "output_type": "execute_result"
    }
   ],
   "source": [
    "# checking the variance inflation factor (VIF) of the columns\n",
    "from statsmodels.stats.outliers_influence import variance_inflation_factor\n",
    "\n",
    "vif=pd.DataFrame()\n",
    "vif[\"Feature\"]=x_train.columns\n",
    "\n",
    "vif[\"VIF\"]=[variance_inflation_factor(x_train.values,i) for i in range(len(x_train.columns))]\n",
    "vif"
   ]
  },
  {
   "cell_type": "markdown",
   "id": "eb12c565",
   "metadata": {},
   "source": [
    "all the columns in the model has vif < 5 so model is accepted"
   ]
  },
  {
   "cell_type": "markdown",
   "id": "361506dc",
   "metadata": {},
   "source": [
    "#### testing the model against test variable"
   ]
  },
  {
   "cell_type": "code",
   "execution_count": 55,
   "id": "ea19bb25",
   "metadata": {},
   "outputs": [],
   "source": [
    "y_pred = result_1.predict(x_test)"
   ]
  },
  {
   "cell_type": "code",
   "execution_count": 56,
   "id": "b5c7b509",
   "metadata": {
    "scrolled": true
   },
   "outputs": [
    {
     "name": "stdout",
     "output_type": "stream",
     "text": [
      "0.7910800123915144\n"
     ]
    }
   ],
   "source": [
    "# checking the r2 of the predicted variable\n",
    "from sklearn.metrics import r2_score\n",
    "print(r2_score(y_test,y_pred))\n",
    "# model has the gap between r2 score is less so model is accepted"
   ]
  },
  {
   "cell_type": "markdown",
   "id": "1748d8a3",
   "metadata": {},
   "source": [
    "### model evaluation"
   ]
  },
  {
   "cell_type": "code",
   "execution_count": 58,
   "id": "255ff30f",
   "metadata": {},
   "outputs": [
    {
     "data": {
      "image/png": "[encoded data removed]",
      "text/plain": [
       "<Figure size 432x288 with 1 Axes>"
      ]
     },
     "metadata": {
      "needs_background": "light"
     },
     "output_type": "display_data"
    }
   ],
   "source": [
    "# Plot the histogram of the error terms\n",
    "fig = plt.figure()\n",
    "sns.distplot((y_test - y_pred), bins = 20)\n",
    "fig.suptitle('Error Terms', fontsize = 20)                \n",
    "plt.xlabel('Errors', fontsize = 18)  \n",
    "plt.show()\n",
    "# errors are normally distributed"
   ]
  },
  {
   "cell_type": "code",
   "execution_count": 60,
   "id": "4f63afbe",
   "metadata": {},
   "outputs": [
    {
     "data": {
      "image/png": "[encoded data removed]",
      "text/plain": [
       "<Figure size 432x288 with 1 Axes>"
      ]
     },
     "metadata": {
      "needs_background": "light"
     },
     "output_type": "display_data"
    }
   ],
   "source": [
    "# Plotting y_test and y_pred to understand the spread.\n",
    "fig = plt.figure()\n",
    "plt.scatter(y_test,y_pred)\n",
    "fig.suptitle('y_test vs y_pred', fontsize=20)              \n",
    "plt.xlabel('y_test', fontsize=18)                          \n",
    "plt.ylabel('y_pred', fontsize=16) \n",
    "plt.show()"
   ]
  },
  {
   "cell_type": "code",
   "execution_count": 61,
   "id": "c6dbd0ac",
   "metadata": {},
   "outputs": [],
   "source": [
    "# r2 of actual and predicted data\n",
    "r2_actual = 0.836\n",
    "r2_predicted = 0.79108"
   ]
  }
 ],
 "metadata": {
  "kernelspec": {
   "display_name": "Python 3 (ipykernel)",
   "language": "python",
   "name": "python3"
  },
  "language_info": {
   "codemirror_mode": {
    "name": "ipython",
    "version": 3
   },
   "file_extension": ".py",
   "mimetype": "text/x-python",
   "name": "python",
   "nbconvert_exporter": "python",
   "pygments_lexer": "ipython3",
   "version": "3.9.7"
  }
 },
 "nbformat": 4,
 "nbformat_minor": 5
}
